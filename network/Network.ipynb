{
 "cells": [
  {
   "cell_type": "code",
   "execution_count": null,
   "metadata": {},
   "outputs": [],
   "source": [
    "import matplotlib.pyplot as plt\n",
    "import torch\n",
    "from torch.utils.data import DataLoader\n",
    "import logging\n",
    "from dataset import DataloaderImg, GreyToRGB, NormalizeVolume\n",
    "from torch import optim\n",
    "import torchvision.transforms.v2 as tfms\n",
    "\n",
    "plt.ion()  # interactive mode\n",
    "\n",
    "# install pytorch correctly\n",
    "# https://discuss.pytorch.org/t/torch-cuda-is-not-available/74845/11\n",
    "\n",
    "device = torch.device(\"cuda\" if torch.cuda.is_available() else \"cpu\")\n",
    "print(device)\n",
    "logging.basicConfig(\n",
    "    level=logging.INFO,\n",
    ")\n",
    "# install cuda driver ubuntu\n",
    "# https://ubuntu.com/server/docs/nvidia-drivers-installation"
   ]
  },
  {
   "cell_type": "code",
   "execution_count": null,
   "metadata": {},
   "outputs": [],
   "source": [
    "# https://pytorch.org/docs/stable/cuda.html\n",
    "# torch.cuda.is_initialized()\n",
    "\n",
    "if torch.cuda.is_available():\n",
    "    current_device = torch.cuda.current_device()\n",
    "    print(f\"Current cuda device: {torch.cuda.get_device_name(current_device)}\")"
   ]
  },
  {
   "cell_type": "code",
   "execution_count": null,
   "metadata": {},
   "outputs": [],
   "source": [
    "# script for segmentation\n",
    "# https://github.com/mateuszbuda/brain-segmentation-pytorch"
   ]
  },
  {
   "cell_type": "code",
   "execution_count": null,
   "metadata": {},
   "outputs": [],
   "source": [
    "# help in loading images\n",
    "# https://discuss.pytorch.org/t/how-to-load-all-the-nii-from-the-directory-without-augmentation-using-pytorch-dataloader/60938/3\n",
    "root_dir = \"/media/MeMoSLAP_Subjects/derivatives/automated_electrode_extraction/train\"  #!NOTE: delete \"/train\" for all subjects\n",
    "\n",
    "custom_transforms = [NormalizeVolume(), GreyToRGB()]\n",
    "transforms = [tfms.RandomRotation(180)]\n",
    "n_validation = 2\n",
    "# full_dataset = Dataloder_img('C:/Users/Ali ktk/.spyder-py3/dataloader/data/train/1', 'C:/Users/Ali ktk/.spyder-py3/dataloader/data/train/1/ADNI_136_S_0300_MR_MPR__GradWarp__B1_Correction__N3__Scaled_Br_20080529142830882_S50401_I107759.nii' ,tfms.Compose([tfms.RandomRotation(180).tfms.ToTensor()]))\n",
    "train_dataset = DataloaderImg(\n",
    "    root_dir,\n",
    "    subset=\"train\",\n",
    "    validation_cases=n_validation,\n",
    "    custom_transforms=custom_transforms,\n",
    "    transforms=transforms,\n",
    ")\n",
    "validation_dataset = DataloaderImg(\n",
    "    root_dir,\n",
    "    subset=\"validation\",\n",
    "    validation_cases=n_validation,\n",
    "    custom_transforms=custom_transforms,\n",
    "    transforms=transforms,\n",
    ")"
   ]
  },
  {
   "cell_type": "code",
   "execution_count": null,
   "metadata": {},
   "outputs": [],
   "source": [
    "loader = DataLoader(train_dataset, batch_size=2, shuffle=True)\n",
    "\n",
    "train_img, train_mask = next(iter(loader))\n",
    "\n",
    "plt.imshow(train_img[0][1])"
   ]
  },
  {
   "cell_type": "code",
   "execution_count": null,
   "metadata": {},
   "outputs": [],
   "source": [
    "model = torch.hub.load(\n",
    "    \"mateuszbuda/brain-segmentation-pytorch\",\n",
    "    \"unet\",\n",
    "    in_channels=3,\n",
    "    out_channels=1,\n",
    "    init_features=32,\n",
    "    pretrained=False,\n",
    ")"
   ]
  },
  {
   "cell_type": "code",
   "execution_count": null,
   "metadata": {},
   "outputs": [],
   "source": [
    "import torch.nn as nn\n",
    "\n",
    "\n",
    "class DiceLoss(nn.Module):\n",
    "    def __init__(self):\n",
    "        super(DiceLoss, self).__init__()\n",
    "        self.smooth = 1.0\n",
    "\n",
    "    def forward(self, y_pred, y_true):\n",
    "        assert y_pred.size() == y_true.size()\n",
    "        y_pred = y_pred[:, 0].contiguous().view(-1)\n",
    "        y_true = y_true[:, 0].contiguous().view(-1)\n",
    "        intersection = (y_pred * y_true).sum()\n",
    "        dsc = (2.0 * intersection + self.smooth) / (\n",
    "            y_pred.sum() + y_true.sum() + self.smooth\n",
    "        )\n",
    "        return 1.0 - dsc"
   ]
  },
  {
   "cell_type": "code",
   "execution_count": null,
   "metadata": {},
   "outputs": [],
   "source": [
    "model.to(device)\n",
    "\n",
    "dsc_loss = DiceLoss()\n",
    "best_validation_dsc = 0.0\n",
    "\n",
    "model.train()\n",
    "\n",
    "optimizer = optim.Adam(model.parameters(), lr=1e-4)\n",
    "\n",
    "loss_train = []\n",
    "loss_valid = []\n",
    "\n",
    "# * epoch loop\n",
    "\n",
    "validation_pred = []\n",
    "validation_true = []\n",
    "\n",
    "phase = \"train\"\n",
    "\n",
    "for i, data in enumerate(loader):\n",
    "    x, y_true = data\n",
    "    x, y_true = x.to(device, dtype=torch.float), y_true.to(device)\n",
    "\n",
    "    optimizer.zero_grad()\n",
    "\n",
    "    with torch.set_grad_enabled(phase == \"train\"):\n",
    "        y_pred = model(x)\n",
    "        loss = dsc_loss(y_pred, y_true)\n",
    "\n",
    "        if phase == \"train\":\n",
    "            loss_train.append(loss.item())\n",
    "            loss.backward()\n",
    "            optimizer.step()\n",
    "\n",
    "# * end epoch loop\n",
    "\n",
    "# if phase == \"train\" and (step + 1) % 10 == 0:\n",
    "#     print(\n",
    "#         f\"Epoch [{epoch}/{num_epochs}], Step [{step}/{total_step}], Loss: {loss.item():.4f}\"\n",
    "#     )"
   ]
  },
  {
   "cell_type": "code",
   "execution_count": null,
   "metadata": {},
   "outputs": [],
   "source": [
    "plt.imshow(y_pred[0][0].cpu().detach().numpy())"
   ]
  },
  {
   "cell_type": "code",
   "execution_count": null,
   "metadata": {},
   "outputs": [],
   "source": [
    "plt.imshow(y_true[0][0].detach().cpu().numpy())"
   ]
  },
  {
   "cell_type": "code",
   "execution_count": null,
   "metadata": {},
   "outputs": [],
   "source": [
    "y_true.size()"
   ]
  }
 ],
 "metadata": {
  "kernelspec": {
   "display_name": "MRI_Analysis",
   "language": "python",
   "name": "python3"
  },
  "language_info": {
   "codemirror_mode": {
    "name": "ipython",
    "version": 3
   },
   "file_extension": ".py",
   "mimetype": "text/x-python",
   "name": "python",
   "nbconvert_exporter": "python",
   "pygments_lexer": "ipython3",
   "version": "3.11.6"
  }
 },
 "nbformat": 4,
 "nbformat_minor": 2
}
